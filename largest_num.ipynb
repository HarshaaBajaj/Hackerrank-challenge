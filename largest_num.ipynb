{
 "cells": [
  {
   "cell_type": "markdown",
   "metadata": {},
   "source": [
    "## Find the largest number that can be made from given input"
   ]
  },
  {
   "cell_type": "markdown",
   "metadata": {},
   "source": [
    "Example input -- output"
   ]
  },
  {
   "cell_type": "code",
   "execution_count": 1,
   "metadata": {},
   "outputs": [],
   "source": [
    "a= [1, 2, 3, 4]       # output -- 4321\n",
    "b=[9, 5, 30, 3, 34]   # output -- 9543330\n",
    "c=[0, 55, 50]         # output --55500"
   ]
  },
  {
   "cell_type": "markdown",
   "metadata": {},
   "source": [
    "Using external library"
   ]
  },
  {
   "cell_type": "code",
   "execution_count": 8,
   "metadata": {},
   "outputs": [],
   "source": [
    "from itertools import permutations\n",
    "def largest_number(nums):\n",
    "    '''\n",
    "        Description -- convert input to strings and find all permutations\n",
    "                    -- the function returns tupple, create a list out of them and return largest number\n",
    "        Input -- nums : input list\n",
    "        Output -- largest number formed\n",
    "    '''\n",
    "    return int(max(map(''.join,permutations(map(str,nums)))))"
   ]
  },
  {
   "cell_type": "code",
   "execution_count": 9,
   "metadata": {},
   "outputs": [
    {
     "data": {
      "text/plain": [
       "[4321, 9534330, 55500]"
      ]
     },
     "execution_count": 9,
     "metadata": {},
     "output_type": "execute_result"
    }
   ],
   "source": [
    "list(map(largest_number,[a,b,c]))"
   ]
  },
  {
   "cell_type": "markdown",
   "metadata": {},
   "source": [
    "Without external library"
   ]
  },
  {
   "cell_type": "code",
   "execution_count": 14,
   "metadata": {},
   "outputs": [],
   "source": [
    "def permutations(arr, sep=''):\n",
    "    global result\n",
    "    if len(arr) == 0: result.extend([sep])\n",
    "    else: [permutations(arr[:i] + arr[i+1:], sep+arr[i]) for i in range(len(arr))]\n",
    "    return result"
   ]
  },
  {
   "cell_type": "code",
   "execution_count": 17,
   "metadata": {},
   "outputs": [
    {
     "data": {
      "text/plain": [
       "9534330"
      ]
     },
     "execution_count": 17,
     "metadata": {},
     "output_type": "execute_result"
    }
   ],
   "source": [
    "result = []\n",
    "int(max(permutations(list(map(str,b))))) # example"
   ]
  },
  {
   "cell_type": "markdown",
   "metadata": {},
   "source": [
    "Simpler method"
   ]
  },
  {
   "cell_type": "code",
   "execution_count": 18,
   "metadata": {},
   "outputs": [],
   "source": [
    "def ln(arr):\n",
    "    for i in range(len(arr)): # for each elem\n",
    "        for j in range(i+1,len(arr)): # against all other elems\n",
    "            if arr[i]+arr[j] < arr[j]+arr[i] : # eg a=[1,2] 21<12 --> swap\n",
    "                t=arr[i]\n",
    "                arr[i]=arr[j]\n",
    "                arr[j]=t\n",
    "    return int(''.join(arr))"
   ]
  },
  {
   "cell_type": "code",
   "execution_count": 19,
   "metadata": {},
   "outputs": [
    {
     "data": {
      "text/plain": [
       "9534330"
      ]
     },
     "execution_count": 19,
     "metadata": {},
     "output_type": "execute_result"
    }
   ],
   "source": [
    "ln(list(map(str,b)))"
   ]
  }
 ],
 "metadata": {
  "kernelspec": {
   "display_name": "Python 3",
   "language": "python",
   "name": "python3"
  },
  "language_info": {
   "codemirror_mode": {
    "name": "ipython",
    "version": 3
   },
   "file_extension": ".py",
   "mimetype": "text/x-python",
   "name": "python",
   "nbconvert_exporter": "python",
   "pygments_lexer": "ipython3",
   "version": "3.5.2"
  }
 },
 "nbformat": 4,
 "nbformat_minor": 2
}
